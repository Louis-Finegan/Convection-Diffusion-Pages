{
 "cells": [
  {
   "cell_type": "code",
   "execution_count": 1,
   "metadata": {},
   "outputs": [],
   "source": [
    "%load_ext autoreload\n",
    "%autoreload 2"
   ]
  },
  {
   "cell_type": "markdown",
   "metadata": {},
   "source": [
    "# Two Dimensional models\n",
    "\n",
    "## Models\n",
    "\n",
    "1. Diffusion\n",
    "2. Convection\n",
    "3. Convection Diffusion\n",
    "\n",
    "All models calculated using the finite-difference method in 2 dimensions. \n",
    "\n",
    "\n",
    "The models can be visualised using two types of animations.\n",
    "\n",
    "1. Color animated plots\n",
    "2. 3D animated plots\n",
    "\n",
    "These partial differential equations are solved for a function $u(x, t)$ in discretized time $t$ and space $x$. See source code `diffuconpy` to see the full implementation of the finite difference method. "
   ]
  },
  {
   "cell_type": "code",
   "execution_count": 2,
   "metadata": {},
   "outputs": [],
   "source": [
    "import numpy as np\n",
    "import matplotlib.pyplot as plt\n",
    "plt.style.use(\"dark_background\")\n",
    "import sys, os\n",
    "\n",
    "sys.path.append(os.path.abspath(os.path.join('..')))\n",
    "\n",
    "import diffuconpy as dc\n",
    "import animations\n"
   ]
  },
  {
   "cell_type": "code",
   "execution_count": 3,
   "metadata": {},
   "outputs": [],
   "source": [
    "class ExamplePlot:\n",
    "    \n",
    "    def __init__(self, model, dx, title, limx, limy, fps, frn, filename):\n",
    "        self.model = model\n",
    "        self.title = title\n",
    "        self.limx = limx\n",
    "        self.limy = limy\n",
    "        self.fps = fps\n",
    "        self.frn = frn\n",
    "        self.filename = filename\n",
    "        self.dx = dx\n",
    "\n",
    "        xvar = np.arange(limx[0], limx[1], self.dx)\n",
    "        yvar = np.arange(limy[0], limy[1], self.dx)\n",
    "\n",
    "        self.X, self.Y = np.meshgrid(xvar, yvar)\n",
    "\n",
    "        \n",
    "\n",
    "    def CreateAnimation_color(self):\n",
    "        \"\"\"\n",
    "        Saves a colour plot animation as a GIF file. 2 dimensional solutions only.\n",
    "        \"\"\"\n",
    "        try:   \n",
    "            animations.animation_color(solution=self.model.solution, xlab='x', ylab='y', title=self.title, xlim_=self.limx, ylim_=self.limy, fps=self.fps, frn=self.frn, filename=self.filename)\n",
    "            print('PLOT SAVED SUCCESSFULLY \\n--------------------')\n",
    "        except:\n",
    "            Exception('ERROR!')\n",
    "\n",
    "    def CreateAnimation_3D(self):\n",
    "        \"\"\"\n",
    "        Saves a 3D plot animation as a GIF file. 2 dimensional solutions only.\n",
    "        \"\"\"\n",
    "        try:   \n",
    "            animations.animation_2(solution=self.model.solution, X=self.X, Y=self.Y, xlab='x', ylab='y', zlab='solution', title=self.title, zlim=(-5, 10), fps=self.fps, frn=self.frn, filename=self.filename)\n",
    "            print('PLOT SAVED SUCCESSFULLY \\n--------------------')\n",
    "        except:\n",
    "            Exception('ERROR!')\n"
   ]
  },
  {
   "cell_type": "code",
   "execution_count": 4,
   "metadata": {},
   "outputs": [],
   "source": [
    "# Initialising the models.\n",
    "# All models shown here will use all these same parameters\n",
    "dx = 0.1\n",
    "dt = 0.1\n",
    "limx = (-5, 5)\n",
    "limy = (-5, 5)\n",
    "fps = 60\n",
    "frn = 250\n",
    "\n",
    "xvar = np.arange(limx[0], limx[1], dx)\n",
    "yvar = np.arange(limy[0], limy[1], dx)\n",
    "\n",
    "X, Y = np.meshgrid(xvar, yvar)\n",
    "\n",
    "init = 4*(1/np.sqrt(0.01*2*np.pi))*np.exp(-(1/2)*((X**2 + Y**2)/0.1))"
   ]
  },
  {
   "cell_type": "markdown",
   "metadata": {},
   "source": [
    "### Diffusion and convection coefficents\n",
    "\n",
    "see [Convection Diffusion](intro.md)."
   ]
  },
  {
   "cell_type": "code",
   "execution_count": 5,
   "metadata": {},
   "outputs": [],
   "source": [
    "diffusion = 0.009\n",
    "convection = -0.1"
   ]
  },
  {
   "cell_type": "markdown",
   "metadata": {},
   "source": [
    "### Boundary Conditions\n",
    "\n",
    "In the models that have diffusion, boundary conditions are imposed. The boundary of the solution is set to zero everywhere when Dirichlet boundary conditions are imposed. The boundary of the flux or the first derivative of the solution is set to zero everywhere when Neumann boundary conditions are imposed. "
   ]
  },
  {
   "cell_type": "code",
   "execution_count": 6,
   "metadata": {},
   "outputs": [],
   "source": [
    "boundary = [0, 0, 0, 0]\n",
    "flux_boundary = [0, 0, 0, 0]"
   ]
  },
  {
   "cell_type": "markdown",
   "metadata": {},
   "source": [
    "## Diffusion"
   ]
  },
  {
   "cell_type": "markdown",
   "metadata": {},
   "source": [
    "### Color plots"
   ]
  },
  {
   "cell_type": "code",
   "execution_count": 7,
   "metadata": {},
   "outputs": [],
   "source": [
    "Nt1 = 250\n",
    "Nx1 = 100\n",
    "\n",
    "TITLE_1_D = 'Diffusion in 2 dimensions with Dirichlet boundary conditions'\n",
    "FILE_1_D_color = 'img//animation_diffusion_2dims_dirichlet_color.gif'\n",
    "\n",
    "TITLE_1_N = 'Diffusion in 2 dimensions with Neumann boundary conditions'\n",
    "FILE_1_N_color = 'img//animation_diffusion_2dims_neumann_color.gif'\n",
    "\n",
    "model1 = dc.diffusion_2dims(Nt1, Nx1, dt, dx, diffusion, init)\n",
    "\n",
    "# Dirichlet boundary conditions\n",
    "sol1_dirichlet = model1.solve_Dirichlet(boundary)\n",
    "\n",
    "# Neumann boundary conditions \n",
    "sol1_neumann = model1.solve_Neumann(flux_boundary)\n",
    "\n",
    "\n",
    "model1_plot_D = ExamplePlot(sol1_dirichlet, dx, TITLE_1_D, limx, limy, fps, frn, FILE_1_D_color)\n",
    "\n",
    "model1_plot_N = ExamplePlot(sol1_neumann, dx, TITLE_1_N, limx, limy, fps, frn, FILE_1_N_color)\n"
   ]
  },
  {
   "cell_type": "code",
   "execution_count": 8,
   "metadata": {},
   "outputs": [
    {
     "name": "stdout",
     "output_type": "stream",
     "text": [
      "PLOT SAVED SUCCESSFULLY \n",
      "--------------------\n",
      "PLOT SAVED SUCCESSFULLY \n",
      "--------------------\n"
     ]
    }
   ],
   "source": [
    "model1_plot_D.CreateAnimation_color()\n",
    "model1_plot_N.CreateAnimation_color()"
   ]
  },
  {
   "cell_type": "markdown",
   "metadata": {},
   "source": [
    "### Animations\n",
    "\n",
    "![animation_diffusion_2dims_dirichlet_color.gif](img/animation_diffusion_2dims_dirichlet_color.gif)\n",
    "\n",
    "![animation_diffusion_2dims_neumann_color.gif](img/animation_diffusion_2dims_neumann_color.gif)"
   ]
  },
  {
   "cell_type": "markdown",
   "metadata": {},
   "source": [
    "### 3D plots"
   ]
  },
  {
   "cell_type": "code",
   "execution_count": 9,
   "metadata": {},
   "outputs": [],
   "source": [
    "FILE_1_D_3D = 'img//animation_diffusion_2dims_dirichlet_3D.gif'\n",
    "FILE_1_N_3D = 'img//animation_diffusion_2dims_neumann_3D.gif'\n",
    "\n",
    "model1_plot_D = ExamplePlot(sol1_dirichlet, dx, TITLE_1_D, limx, limy, fps, frn, FILE_1_D_3D)\n",
    "model1_plot_N = ExamplePlot(sol1_neumann, dx, TITLE_1_N, limx, limy, fps, frn, FILE_1_N_3D)"
   ]
  },
  {
   "cell_type": "code",
   "execution_count": 10,
   "metadata": {},
   "outputs": [
    {
     "name": "stdout",
     "output_type": "stream",
     "text": [
      "PLOT SAVED SUCCESSFULLY \n",
      "--------------------\n",
      "PLOT SAVED SUCCESSFULLY \n",
      "--------------------\n"
     ]
    }
   ],
   "source": [
    "model1_plot_D.CreateAnimation_3D()\n",
    "model1_plot_N.CreateAnimation_3D()"
   ]
  },
  {
   "cell_type": "markdown",
   "metadata": {},
   "source": [
    "### Animations\n",
    "\n",
    "![animation_diffusion_2dims_dirichlet_3D.gif](img/animation_diffusion_2dims_dirichlet_3D.gif)\n",
    "\n",
    "![animation_diffusion_2dims_neumann_3D.gif](img/animation_diffusion_2dims_neumann_3D.gif)"
   ]
  },
  {
   "cell_type": "markdown",
   "metadata": {},
   "source": [
    "## Convection"
   ]
  },
  {
   "cell_type": "markdown",
   "metadata": {},
   "source": [
    "### Color plots"
   ]
  },
  {
   "cell_type": "code",
   "execution_count": 11,
   "metadata": {},
   "outputs": [],
   "source": [
    "Nt2 = 250\n",
    "Nx2 = 200\n",
    "\n",
    "TITLE_2 = 'Convection in 2 dimensions'\n",
    "FILE_2_color = 'img//animation_convection_2dims_color.gif'\n",
    "\n",
    "model2 = dc.convection_2dims(Nt2, Nx2, dt, dx, convection, init)\n",
    "\n",
    "sol2 = model2.solve()\n",
    "\n",
    "model2_plot = ExamplePlot(sol2, dx, TITLE_2, limx, limy, fps, frn, FILE_2_color)"
   ]
  },
  {
   "cell_type": "code",
   "execution_count": 12,
   "metadata": {},
   "outputs": [
    {
     "name": "stdout",
     "output_type": "stream",
     "text": [
      "PLOT SAVED SUCCESSFULLY \n",
      "--------------------\n"
     ]
    }
   ],
   "source": [
    "model2_plot.CreateAnimation_color()"
   ]
  },
  {
   "cell_type": "markdown",
   "metadata": {},
   "source": [
    "### Animations\n",
    "\n",
    "![animation_convection_2dims_color.gif](img/animation_convection_2dims_color.gif)"
   ]
  },
  {
   "cell_type": "markdown",
   "metadata": {},
   "source": [
    "### 3D plots"
   ]
  },
  {
   "cell_type": "code",
   "execution_count": 13,
   "metadata": {},
   "outputs": [],
   "source": [
    "FILE_2_3D = 'img//animation_convection_2dims_3D.gif'\n",
    "\n",
    "model2_plot = ExamplePlot(sol2, dx, TITLE_2, limx, limy, fps, frn, FILE_2_3D)"
   ]
  },
  {
   "cell_type": "code",
   "execution_count": 14,
   "metadata": {},
   "outputs": [
    {
     "name": "stdout",
     "output_type": "stream",
     "text": [
      "PLOT SAVED SUCCESSFULLY \n",
      "--------------------\n"
     ]
    }
   ],
   "source": [
    "model2_plot.CreateAnimation_3D()"
   ]
  },
  {
   "cell_type": "markdown",
   "metadata": {},
   "source": [
    "### Animations\n",
    "\n",
    "![animation_convection_2dims_3D.gif](img/animation_convection_2dims_3D.gif)"
   ]
  },
  {
   "cell_type": "markdown",
   "metadata": {},
   "source": [
    "## Convection Diffusion"
   ]
  },
  {
   "cell_type": "markdown",
   "metadata": {},
   "source": [
    "### Color plots"
   ]
  },
  {
   "cell_type": "code",
   "execution_count": 15,
   "metadata": {},
   "outputs": [],
   "source": [
    "Nt3 = 250\n",
    "Nx3 = 200\n",
    "\n",
    "TITLE_3_D = 'Convection Diffusion in 2 dimensions with Dirichlet boundary conditions'\n",
    "FILE_3_D_color = 'img//animation_convection_diffusion_2dims_dirichlet_color.gif'\n",
    "\n",
    "TITLE_3_N = 'Convection Diffusion in 2 dimensions with Neumann boundary conditions'\n",
    "FILE_3_N_color = 'img//animation_convection_diffusion_2dims_neumann_color.gif'\n",
    "\n",
    "model3 = dc.convection_diffusion_2dims(Nt3, Nx3, dt, dx, diffusion, convection, init)\n",
    "\n",
    "# Dirichlet boundary conditions\n",
    "sol3_dirichlet = model3.solve_Dirichlet(boundary)\n",
    "\n",
    "# Neumann boundary conditions \n",
    "sol3_neumann = model3.solve_Neumann(flux_boundary)\n",
    "\n",
    "\n",
    "model3_plot_D = ExamplePlot(sol3_dirichlet, dx, TITLE_3_D, limx, limy, fps, frn, FILE_3_D_color)\n",
    "\n",
    "model3_plot_N = ExamplePlot(sol3_neumann, dx, TITLE_3_N, limx, limy, fps, frn, FILE_3_N_color)"
   ]
  },
  {
   "cell_type": "code",
   "execution_count": 16,
   "metadata": {},
   "outputs": [
    {
     "name": "stdout",
     "output_type": "stream",
     "text": [
      "PLOT SAVED SUCCESSFULLY \n",
      "--------------------\n",
      "PLOT SAVED SUCCESSFULLY \n",
      "--------------------\n"
     ]
    }
   ],
   "source": [
    "model3_plot_D.CreateAnimation_color()\n",
    "model3_plot_N.CreateAnimation_color()"
   ]
  },
  {
   "cell_type": "markdown",
   "metadata": {},
   "source": [
    "### Animations\n",
    "\n",
    "![animation_convection_diffusion_2dims_dirichlet_color.gif](img/animation_convection_diffusion_2dims_dirichlet_color.gif)\n",
    "\n",
    "![animation_convection_diffusion_2dims_neumann_color.gif](img/animation_convection_diffusion_2dims_neumann_color.gif)"
   ]
  },
  {
   "cell_type": "markdown",
   "metadata": {},
   "source": [
    "### 3D plots"
   ]
  },
  {
   "cell_type": "code",
   "execution_count": 17,
   "metadata": {},
   "outputs": [],
   "source": [
    "FILE_3_D_3D = 'img//animation_convection_diffusion_2dims_dirichlet_3D.gif'\n",
    "FILE_3_N_3D = 'img//animation_convection_diffusion_2dims_neumann_3D.gif'\n",
    "\n",
    "model3_plot_D = ExamplePlot(sol3_dirichlet, dx, TITLE_3_D, limx, limy, fps, frn, FILE_3_D_3D)\n",
    "model3_plot_N = ExamplePlot(sol3_neumann, dx, TITLE_3_N, limx, limy, fps, frn, FILE_3_N_3D)"
   ]
  },
  {
   "cell_type": "code",
   "execution_count": 18,
   "metadata": {},
   "outputs": [
    {
     "name": "stdout",
     "output_type": "stream",
     "text": [
      "PLOT SAVED SUCCESSFULLY \n",
      "--------------------\n",
      "PLOT SAVED SUCCESSFULLY \n",
      "--------------------\n"
     ]
    }
   ],
   "source": [
    "model3_plot_D.CreateAnimation_3D()\n",
    "model3_plot_N.CreateAnimation_3D()"
   ]
  },
  {
   "cell_type": "markdown",
   "metadata": {},
   "source": [
    "### Animations\n",
    "\n",
    "![animation_convection_diffusion_2dims_dirichlet_3D.gif](img/animation_convection_diffusion_2dims_dirichlet_3D.gif)\n",
    "\n",
    "![animation_convection_diffusion_2dims_neumann_3D.gif](img/animation_convection_diffusion_2dims_neumann_3D.gif)"
   ]
  },
  {
   "cell_type": "markdown",
   "metadata": {},
   "source": [
    "> **Warning**:\n",
    "> The 3D animation are extremely slow to generate, with at most 1 minute run time. \n",
    "\n",
    "It is better to generate these solutions as color plot animations, with at most 11 seconds run time."
   ]
  }
 ],
 "metadata": {
  "kernelspec": {
   "display_name": "Python 3",
   "language": "python",
   "name": "python3"
  },
  "language_info": {
   "codemirror_mode": {
    "name": "ipython",
    "version": 3
   },
   "file_extension": ".py",
   "mimetype": "text/x-python",
   "name": "python",
   "nbconvert_exporter": "python",
   "pygments_lexer": "ipython3",
   "version": "3.10.5"
  }
 },
 "nbformat": 4,
 "nbformat_minor": 2
}
