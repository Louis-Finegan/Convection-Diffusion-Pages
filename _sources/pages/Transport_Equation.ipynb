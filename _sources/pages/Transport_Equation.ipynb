{
 "cells": [
  {
   "cell_type": "code",
   "execution_count": 1,
   "metadata": {},
   "outputs": [],
   "source": [
    "%load_ext autoreload\n",
    "%autoreload 2"
   ]
  },
  {
   "attachments": {},
   "cell_type": "markdown",
   "metadata": {},
   "source": [
    "# One Dimensional Transport equation"
   ]
  },
  {
   "cell_type": "code",
   "execution_count": 2,
   "metadata": {},
   "outputs": [],
   "source": [
    "import numpy as np\n",
    "import matplotlib.pyplot as plt\n",
    "import matplotlib.animation as animation\n",
    "plt.style.use(\"dark_background\")\n",
    "import sys, os\n",
    "\n",
    "sys.path.append(os.path.abspath(os.path.join('..')))\n",
    "\n",
    "import diffuconpy as dc\n",
    "import animations"
   ]
  },
  {
   "attachments": {},
   "cell_type": "markdown",
   "metadata": {},
   "source": [
    "The One dimensional Convection (Advection) Model, or Transport equation, is governed by the following pde:\n",
    "\n",
    "$$\\frac{\\partial u}{\\partial t} = c \\frac{\\partial u}{\\partial x}$$\n",
    "\n",
    "Which initial condition:\n",
    "\n",
    "$$u(x, 0) = \\sin\\left(\\frac{2\\pi}{5}x\\right)$$\n",
    "\n",
    "Solving this model numerically one would have to discretize this model. One such discretization is the \"Upwind Method\" or \"Centered difference\". \n",
    "\n",
    "$$\\therefore u_{i}^{n+1} = u_{i}^{n} + \\left(c\\frac{\\Delta t}{2\\Delta x}\\right)[u_{i+1}^{n} - u_{i-1}^{n}]$$\n",
    "\n",
    "See source code `diffuconpy` to see the full implementation of this discretization.\n",
    "\n",
    "To model the Advection Equation, one must consider the number of step the model will advance in time `Nt = 250` and space `Nx = 1500`. Also $\\Delta t$ which is `dt = 1/Nt` in the code below and $\\Delta x$ which is `dx = (5-(-5)/Nx)`. the boundary points on this plot are $-5$ and $5$, at which the initial function is $0$. the Convection coefficient `convection` is $0.75$."
   ]
  },
  {
   "cell_type": "code",
   "execution_count": 3,
   "metadata": {},
   "outputs": [],
   "source": [
    "# Numbers of space and time steps\n",
    "Nt = 900\n",
    "Nx = 1500\n",
    "\n",
    "# Space and time step size\n",
    "dt = (2-0)/Nt\n",
    "dx = (5-(-5))/Nx\n",
    "\n",
    "# Convection Coefficient (speed of the distribution)\n",
    "convection = 0.75\n",
    "\n",
    "# Setting up the initial condition\n",
    "x = np.arange(-5, 5, dx)\n",
    "\n",
    "# Initial Array\n",
    "init = 3*np.sin(((2*np.pi)/5)*x)"
   ]
  },
  {
   "attachments": {},
   "cell_type": "markdown",
   "metadata": {},
   "source": [
    "## Solving the PDE and Calculating its CLF value"
   ]
  },
  {
   "cell_type": "code",
   "execution_count": 4,
   "metadata": {},
   "outputs": [],
   "source": [
    "# Solving the diffusion equation\n",
    "def solve(Nt, Nx, dt, dx, convection, init):\n",
    "    transport = dc.convection_1dims(Nt, Nx, dt, dx, convection, init)\n",
    "    model = transport.solve()\n",
    "\n",
    "    return model.solution\n"
   ]
  },
  {
   "cell_type": "code",
   "execution_count": 5,
   "metadata": {},
   "outputs": [
    {
     "name": "stdout",
     "output_type": "stream",
     "text": [
      "0.25\n"
     ]
    }
   ],
   "source": [
    "density = solve(Nt, Nx, dt, dx, convection, init)\n",
    "\n",
    "CLF = np.abs(convection*(dt/dx))\n",
    "\n",
    "print(CLF)"
   ]
  },
  {
   "attachments": {},
   "cell_type": "markdown",
   "metadata": {},
   "source": [
    "## Plotting the first time step"
   ]
  },
  {
   "cell_type": "code",
   "execution_count": 6,
   "metadata": {},
   "outputs": [
    {
     "data": {
      "image/png": "[encoded data removed]",
      "text/plain": [
       "<Figure size 640x480 with 1 Axes>"
      ]
     },
     "metadata": {},
     "output_type": "display_data"
    }
   ],
   "source": [
    "# Plotting the 0th time step state\n",
    "plt.figure(0)\n",
    "ax = plt.axes(xlim=(-5, 5), ylim=(-4, 4)) # left bound -5 and right bound 5\n",
    "ax.plot(x, density[0], color='pink')\n",
    "plt.title('Solution at the 0th time step')\n",
    "plt.xlabel('x')\n",
    "plt.ylabel('density')\n",
    "plt.show()\n"
   ]
  },
  {
   "attachments": {},
   "cell_type": "markdown",
   "metadata": {},
   "source": [
    "## Animating the Solution"
   ]
  },
  {
   "cell_type": "code",
   "execution_count": 7,
   "metadata": {},
   "outputs": [],
   "source": [
    "# Setting up the animation\n",
    "FPS = 60\n",
    "FRN = 250\n",
    "FILE = './img/convection_in_1_dimension.gif'\n",
    "\n",
    "# Calling the animation_() function defined in the previous cell.\n",
    "# See the animation at ./example-img/convection_in_1_dimension.gif\n",
    "animations.animation_1(\n",
    "    solution=density, \n",
    "    X=x, \n",
    "    xlab='x', \n",
    "    ylab='density', \n",
    "    title='Solution to Transport Equation', \n",
    "    color='pink', \n",
    "    xlim_=(-5, 5), \n",
    "    ylim_=(-4, 4), \n",
    "    fps=FPS, \n",
    "    frn=FRN, \n",
    "    filename=FILE\n",
    "    )"
   ]
  },
  {
   "cell_type": "markdown",
   "metadata": {},
   "source": [
    "![convection_in_1_dimension.gif](img/convection_in_1_dimension.gif)\n",
    "\n",
    "Convection of a sinwave at a speed of 0.75."
   ]
  }
 ],
 "metadata": {
  "kernelspec": {
   "display_name": "Python 3",
   "language": "python",
   "name": "python3"
  },
  "language_info": {
   "codemirror_mode": {
    "name": "ipython",
    "version": 3
   },
   "file_extension": ".py",
   "mimetype": "text/x-python",
   "name": "python",
   "nbconvert_exporter": "python",
   "pygments_lexer": "ipython3",
   "version": "3.10.5"
  },
  "orig_nbformat": 4
 },
 "nbformat": 4,
 "nbformat_minor": 2
}
